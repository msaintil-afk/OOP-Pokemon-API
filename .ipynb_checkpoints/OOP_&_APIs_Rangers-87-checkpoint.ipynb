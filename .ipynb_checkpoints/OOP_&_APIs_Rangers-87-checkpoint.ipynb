{
 "cells": [
  {
   "cell_type": "markdown",
   "metadata": {},
   "source": [
    "# Object Oriented Programming 2 - examples and APIs\n"
   ]
  },
  {
   "cell_type": "markdown",
   "metadata": {},
   "source": [
    "## Tasks Today:\n",
    "\n",
    "   \n",
    "\n",
    "1) <b>Shopping Cart Example</b> <br>\n",
    "2) <b>Requests and the pokemon API </b> <br>\n",
    " "
   ]
  },
  {
   "cell_type": "markdown",
   "metadata": {},
   "source": [
    "# Goal \n",
    "### build a shopping cart program with prices and quantities using objects and a dictionary"
   ]
  },
  {
   "cell_type": "code",
   "execution_count": null,
   "metadata": {},
   "outputs": [],
   "source": [
    "from IPython.display import clear_output as clear\n",
    "# Create a class called cart that retains items and has methods to add, remove, and show\n",
    "\n",
    "from IPython.display import clear_output as clear\n",
    "# Create a class called cart that retains items and has methods to add, remove, and show\n",
    "\n",
    "# this class is just responsible for the cart object and the actions of the cart object\n",
    "class Cart():\n",
    "    def __init__(self):\n",
    "        self.items = {}\n",
    "    \n",
    "    def add(self):\n",
    "        clear()\n",
    "        new_item = input(\"What do you want to get? \")\n",
    "        quantity = int(input(f\"How many {new_item}s do you want? (insert number) \"))\n",
    "        if new_item not in self.items.keys():\n",
    "            self.items[new_item] = quantity\n",
    "        else:\n",
    "            self.items[new_item] += quantity\n",
    "        print(f\"{quantity} {new_item}s are in the cart\")\n",
    "        \n",
    "    def remove(self):\n",
    "        clear()\n",
    "        discard = input('What would you like to discard? ')\n",
    "        quantity = int(input(\" How many would you like to discard? \"))\n",
    "        try:\n",
    "            self.items[discard] -= quantity\n",
    "            if self.items[discard] <= 0:\n",
    "                del self.items[discard]\n",
    "            print(f'{quantity} {discard}s have been removed.')\n",
    "        except:\n",
    "            print(f'{discard} was not in your cart.')\n",
    "        self.show()\n",
    "        \n",
    "    def show(self):\n",
    "        print(f\"Your cart contains the listed items\")\n",
    "        for item,quantity in self.items.items():\n",
    "            print(f\"{item} | quantity: {quantity}\")\n",
    "            \n",
    "    def checkout(self):\n",
    "        clear()\n",
    "        if not self.items:\n",
    "            print(\"buy something next time... Please\")\n",
    "        else:\n",
    "            print('Thanks for shopping!')\n",
    "            self.show()\n",
    "        \n",
    "    \n",
    "    \n",
    "# control the logic and flow/operation of our overall program\n",
    "class Main:\n",
    "    def showInstructions():\n",
    "        print(\"\"\"\n",
    "Welcome to the Shopping Program.\n",
    "Options:\n",
    "[1] Show Current Cart\n",
    "[2] Add Item\n",
    "[3] Remove Item\n",
    "[4] Quit\n",
    "        \"\"\")\n",
    "    \n",
    "    # driver code - responsible for actually calling all of my functions\n",
    "    def run():\n",
    "        Main.showInstructions()\n",
    "        my_cart = Cart()\n",
    "        \n",
    "        while True:\n",
    "            choice = input(\"What would you like to do? \")\n",
    "            if choice == '1':\n",
    "                if my_cart.items == {}:\n",
    "                    print('Your cart is empty... start shopping')\n",
    "                else:\n",
    "                    my_cart.show()\n",
    "            elif choice == '2':\n",
    "                my_cart.add()\n",
    "            elif choice == '3':\n",
    "                if my_cart.items == {}:\n",
    "                    print('your cart is empty... add something before you remove it')\n",
    "                else:\n",
    "                    my_cart.remove()\n",
    "            elif choice == '4':\n",
    "                my_cart.checkout()\n",
    "                break\n",
    "            else:\n",
    "                print(\"invalid input... please try again.\")\n",
    "                \n",
    "Main.run()\n",
    "\n"
   ]
  },
  {
   "cell_type": "markdown",
   "metadata": {},
   "source": [
    "# working with APis"
   ]
  },
  {
   "cell_type": "markdown",
   "metadata": {},
   "source": [
    "<p> What exactly is an API? <br> <br>\n",
    "API is the acronym for Application Programming Interface, which is a software intermediary that allows two applications to talk to each other. Each time you use an app like Facebook, send an instant message, or check the weather on your phone, you're using an API. </p>"
   ]
  },
  {
   "cell_type": "markdown",
   "metadata": {},
   "source": [
    "### The Poke API  allows you to retreive a pokemon's information from PokeAPI https://pokeapi.co/\n",
    "\n"
   ]
  },
  {
   "cell_type": "code",
   "execution_count": null,
   "metadata": {},
   "outputs": [],
   "source": [
    "# making an API call\n",
    "import requests\n",
    "\n",
    "\n",
    "r = requests.get('https://pokeapi.co/api/v2/pokemon/charizard')\n",
    "if r.status_code == 200:\n",
    "    data = r.json()\n",
    "\n",
    "print(data.keys())\n",
    "\n"
   ]
  },
  {
   "cell_type": "markdown",
   "metadata": {},
   "source": [
    "### Display a Pokemon's name, weight, abilities, and types"
   ]
  },
  {
   "cell_type": "code",
   "execution_count": null,
   "metadata": {},
   "outputs": [],
   "source": [
    "# name, abilities, types, and weight\n",
    "# get the name\n",
    "#this is printing the key of the name in the dict\n",
    "name = data['name']\n",
    "print(name)"
   ]
  },
  {
   "cell_type": "code",
   "execution_count": null,
   "metadata": {
    "scrolled": true
   },
   "outputs": [],
   "source": [
    "#get types\n",
    "# get types\n",
    "types = [pokemon['type']['name'] for pokemon in data['types']]\n",
    "\n",
    "print(types)"
   ]
  },
  {
   "cell_type": "code",
   "execution_count": null,
   "metadata": {
    "scrolled": true
   },
   "outputs": [],
   "source": [
    "print(data['moves']['name'])"
   ]
  },
  {
   "cell_type": "code",
   "execution_count": null,
   "metadata": {},
   "outputs": [],
   "source": [
    "# get weight\n",
    "weight = data['weight']\n",
    "print(weight)"
   ]
  },
  {
   "cell_type": "code",
   "execution_count": null,
   "metadata": {},
   "outputs": [],
   "source": [
    "# get abilities\n",
    "abilities = [pokemon['ability']['name'] for pokemon in data['abilities']]\n",
    "print(abilities)"
   ]
  },
  {
   "cell_type": "code",
   "execution_count": null,
   "metadata": {},
   "outputs": [],
   "source": [
    "# Create a structure for a single pokemon\n",
    "pokemon_x = {\n",
    "    \n",
    "'name': '',\n",
    "'abilities': [],\n",
    "'weight': 0,\n",
    "'types': []\n",
    "}\n"
   ]
  },
  {
   "cell_type": "code",
   "execution_count": null,
   "metadata": {},
   "outputs": [],
   "source": [
    "charizard = {\n",
    "    \"name\": name,\n",
    "    'abilities': abilities,\n",
    "    'weight': weight,\n",
    "    'types' : types\n",
    "}\n",
    "charizard"
   ]
  },
  {
   "cell_type": "markdown",
   "metadata": {},
   "source": [
    "#### Create a function to Pull in your own Pokemon's data "
   ]
  },
  {
   "cell_type": "code",
   "execution_count": null,
   "metadata": {},
   "outputs": [],
   "source": [
    "def poke_api_call(pokemon):\n",
    "    pull_data = requests.get(f'https://pokeapi.co/api/v2/pokemon/{pokemon}')\n",
    "    if pull_data.status_code == 200:\n",
    "        data = pull_data.json()\n",
    "        \n",
    "        name = data['name']\n",
    "        types = [pokemon['type']['name'] for pokemon in data['types']]\n",
    "        abilities = [pokemon['ability']['name'] for pokemon in data['abilities']]\n",
    "        weight = data['weight']\n",
    "        \n",
    "        poke_character = {\n",
    "            \"name\": name,\n",
    "            'abilities': abilities,\n",
    "            'weight': weight,\n",
    "            'types' : types\n",
    "        }\n",
    "        return poke_character\n",
    "\n",
    "print(poke_api_call('charizard'))\n",
    "    \n"
   ]
  },
  {
   "cell_type": "code",
   "execution_count": null,
   "metadata": {},
   "outputs": [],
   "source": [
    "def poke_api_call(pokemon_name_or_id):\n",
    "    r = requests.get(f\"https://pokeapi.co/api/v2/pokemon/{pokemon_name_or_id}\")\n",
    "    if r.status_code == 200:\n",
    "        data = r.json()\n",
    "        \n",
    "        name = data['name']\n",
    "        types = [pokemon['type']['name'] for pokemon in data['types']]\n",
    "        abilities = [poke['ability']['name'] for poke in data['abilities']]\n",
    "        weight = data['weight']\n",
    "        \n",
    "        pokemon_x = {\n",
    "            \"name\":name,\n",
    "            \"abilities\":abilities,\n",
    "            \"weight\":weight,\n",
    "            \"types\":types\n",
    "        }\n",
    "        return pokemon_x\n",
    "    else:\n",
    "        print(f\"Error Status Code: {r.status_code}\")\n",
    "        \n",
    "squirtle = poke_api_call(\"squirtle\")\n",
    "bulbasaur = poke_api_call(11)\n",
    "print(poke_api_call('charizard'))"
   ]
  },
  {
   "cell_type": "markdown",
   "metadata": {},
   "source": [
    "Choose your pokemon"
   ]
  },
  {
   "cell_type": "code",
   "execution_count": null,
   "metadata": {},
   "outputs": [],
   "source": [
    "from random import randint\n",
    "# Random number generated for each pokemon id\n",
    "random_team = [randint(1,898) for i in range(6)]\n",
    "\n",
    "your_team = ['electabuzz', 'haunter','tyranitar','blaziken','marowak','dragonair']\n",
    "\n",
    "print(random_team)\n",
    "\n",
    "\n"
   ]
  },
  {
   "cell_type": "markdown",
   "metadata": {},
   "source": [
    "#### Use your function to create a dictionary of your Johto League 6  (favorite 6 pokemon)"
   ]
  },
  {
   "cell_type": "code",
   "execution_count": null,
   "metadata": {},
   "outputs": [],
   "source": [
    "# Place all 6 of your pokemon on the object below, each pokemon should have at least as much info as Pikachu did.\n",
    "my_six_pokemon = {}\n",
    "\n",
    "for memeber in random_team:\n",
    "    poke_stats = poke_api_call(memeber)\n",
    "    my_six_pokemon[poke_stats['name']] = poke_stats\n",
    "    \n",
    "my_six_pokemon\n"
   ]
  },
  {
   "cell_type": "markdown",
   "metadata": {},
   "source": [
    "## Lets create a class called 'Pokemon' and create our pokemon as instances"
   ]
  },
  {
   "cell_type": "code",
   "execution_count": null,
   "metadata": {},
   "outputs": [],
   "source": [
    "# from IPython.display import Image\n",
    "\n",
    "# class Pokemon():\n",
    "#     def __init__(self,name):\n",
    "#         self.name = name\n",
    "#         self.types = []\n",
    "#         self.abilities = []\n",
    "#         self.weight = 0\n",
    "#         self.id = 0\n",
    "#         self.poke_api_call()\n",
    "        \n",
    "#     def poke_api_call(self):\n",
    "#         r = requests.get(f\"https://pokeapi.co/api/v2/pokemon/{self.name}\")\n",
    "#         if r.status_code == 200:\n",
    "#             pokemon = r.json()\n",
    "#         else:\n",
    "#             print(f'Ran into an issue {r.status_code}')\n",
    "#             return\n",
    "#         self.name = pokemon['name']\n",
    "#         self.types = [pokemon['type']['name'] for pokemon in data['types']]\n",
    "#         self.abilities = [poke['ability']['name'] for poke in data['abilities']]\n",
    "#         self.weight = pokemon['weight']\n",
    "#         self.id = data['id']\n",
    "#         print(f'{self.name}\\'data has been updated! ')\n",
    "        \n",
    "#     def __repr__(self):\n",
    "#         return f\"You caught a {self.name}!!\"\n",
    "    \n",
    "#     def picture(self):\n",
    "#         display(Image( 'https://raw.githubusercontent.com/PokeAPI/sprites/master/sprites/pokemon/other/official-artwork/{self.id}.png', width = 300))\n",
    "#         return picture \n"
   ]
  },
  {
   "cell_type": "code",
   "execution_count": null,
   "metadata": {},
   "outputs": [],
   "source": [
    "pikachu = Pokemon('pikachu')\n",
    "print(pikachu)\n",
    "print(type(pikachu))\n",
    "print(pikachu.__dict__)\n"
   ]
  },
  {
   "cell_type": "markdown",
   "metadata": {},
   "source": [
    "### Let's Catch some Pokemon"
   ]
  },
  {
   "cell_type": "code",
   "execution_count": null,
   "metadata": {},
   "outputs": [],
   "source": [
    "pokemon = ['lugia', 'pikachu', 'charmander', 'bulbasaur', 'squirtle', 'hitmonlee']\n",
    "randoms = [ randint(1,898) for i in range(6)]\n",
    "# dictionary of structure {name: object,}\n",
    "pokedex = {}\n",
    "\n",
    "for name in randoms:\n",
    "    new = Pokemon(name)\n",
    "    pokedex[new.name] = new\n",
    "    \n",
    "pokedex"
   ]
  },
  {
   "cell_type": "code",
   "execution_count": null,
   "metadata": {},
   "outputs": [],
   "source": [
    "pokedex = {}\n"
   ]
  },
  {
   "cell_type": "markdown",
   "metadata": {},
   "source": [
    "## Exercise 1:"
   ]
  },
  {
   "cell_type": "markdown",
   "metadata": {},
   "source": [
    "### Create a Method prints an image of your pokemon\n",
    "\n",
    "<p>HINT: You may need another attribute as well to store your image url within. </p>"
   ]
  },
  {
   "cell_type": "code",
   "execution_count": null,
   "metadata": {},
   "outputs": [],
   "source": [
    "# # Display an image in Jupyter notebook\n",
    "# from IPython.display import Image\n",
    "\n",
    "# # display(Image( 'https://i.redd.it/45n4mhusa8l41.jpg', width = 300))\n",
    "\n",
    "# class Pokemon():\n",
    "#     def __init__(self,name):\n",
    "#         self.name = name\n",
    "#         self.types = []\n",
    "#         self.abilities = []\n",
    "#         self.weight = 0\n",
    "#         self.poke_api_call()\n",
    "#         self.image = ''\n",
    "#         self.display()\n",
    "#         print(self)\n",
    "        \n",
    "#     def poke_api_call(self):\n",
    "#         r = requests.get(f\"https://pokeapi.co/api/v2/pokemon/{self.name}\")\n",
    "#         if r.status_code == 200:\n",
    "#             pokemon = r.json()\n",
    "\n",
    "            \n",
    "        \n",
    "    #         self.name = pokemon['name']\n",
    "    #         self.types = [pokemon['type']['name'] for pokemon in data['types']]\n",
    "    #         self.abilities = [poke['ability']['name'] for poke in data['abilities']]\n",
    "    #         self.weight = pokemon['weight']\n",
    "    #         self.image = data['sprites']['other']['official-artwork']['front_default']\n",
    "            \n",
    "            \n",
    "#             else:\n",
    "#             print(f'Ran into an issue {r.status_code}')\n",
    "\n",
    "        \n",
    "    \n",
    "       \n",
    "        \n",
    "        \n",
    "    \n",
    "#     def display(self):\n",
    "#         display(Image(self.image))\n",
    "        \n",
    "#     def __repr__(self):\n",
    "#         return f\"You caught a {self.name}!\"\n",
    "    \n",
    "    \n"
   ]
  },
  {
   "cell_type": "code",
   "execution_count": null,
   "metadata": {
    "scrolled": true
   },
   "outputs": [],
   "source": [
    "pikachu = Pokemon('pikachu')\n",
    "print(pikachu)"
   ]
  },
  {
   "cell_type": "code",
   "execution_count": null,
   "metadata": {},
   "outputs": [],
   "source": [
    "class Pokemon(Move_Tutor):\n",
    "    def __init__(self,name):\n",
    "        self.name = name\n",
    "        self.types = []\n",
    "        self.abilities = []\n",
    "        self.weight = 0\n",
    "        self.image = ''\n",
    "        self.poke_api_call()\n",
    "        print(self)\n",
    "        self.display()\n",
    "\n",
    "    def poke_api_call(self):\n",
    "        r = requests.get(f\"https://pokeapi.co/api/v2/pokemon/{self.name}\")\n",
    "        if r.status_code == 200:\n",
    "            data = r.json()\n",
    "\n",
    "            self.name = data['name']\n",
    "            self.types = [pokemon['type']['name'] for pokemon in data['types']]\n",
    "            self.abilities = [poke['ability']['name'] for poke in data['abilities']]\n",
    "            self.weight = data['weight']\n",
    "            self.image = data['sprites']['other']['official-artwork']['front_default']\n",
    "\n",
    "        else:\n",
    "            print(f\"Error Status Code: {r.status_code}\")\n",
    "\n",
    "    def display(self):\n",
    "        display(Image(self.image))\n",
    "        # What happens when you print\n",
    "    def __repr__(self):\n",
    "        return f\"You caught a {self.name}!\" "
   ]
  },
  {
   "cell_type": "code",
   "execution_count": null,
   "metadata": {},
   "outputs": [],
   "source": [
    "pikachu = Pokemon('charmander')\n",
    "print(pikachu)\n",
    "pikachu.evolve()\n"
   ]
  },
  {
   "cell_type": "code",
   "execution_count": null,
   "metadata": {},
   "outputs": [],
   "source": [
    "# recreate your pokemon class here\n",
    "class Pokemon:\n",
    "    pass"
   ]
  },
  {
   "cell_type": "code",
   "execution_count": null,
   "metadata": {},
   "outputs": [],
   "source": []
  },
  {
   "cell_type": "code",
   "execution_count": null,
   "metadata": {},
   "outputs": [],
   "source": [
    "# Calling our new method\n"
   ]
  },
  {
   "cell_type": "markdown",
   "metadata": {},
   "source": [
    "## Exercise 2:"
   ]
  },
  {
   "cell_type": "markdown",
   "metadata": {},
   "source": [
    "### Create a Method that evolves your Pokemon\n",
    "If your pokemon can't evolve any further print a message that says \"\\<name of pokemon> can't evolve.\""
   ]
  },
  {
   "cell_type": "code",
   "execution_count": null,
   "metadata": {},
   "outputs": [],
   "source": [
    "from time import sleep\n",
    "\n",
    "class Evolver:\n",
    "        \n",
    "    def evolve(self):\n",
    "        # API call for pokemon's species\n",
    "        r = requests.get(f\"https://pokeapi.co/api/v2/pokemon-species/{self.name}/\")\n",
    "        if r.status_code == 200:\n",
    "            pokemon_species = r.json()\n",
    "        else:\n",
    "            print(f'Ran into a species issue {r.status_code}')\n",
    "            return\n",
    "        \n",
    "        #API call for species evolutionary chain\n",
    "        r2 = requests.get(pokemon_species['evolution_chain']['url'])\n",
    "        if r2.status_code == 200:\n",
    "            ev_chain = r2.json()\n",
    "            ev_chain = ev_chain['chain']\n",
    "        else:\n",
    "            print(f\"Ran into an evolution issue {r2.status_code}\")\n",
    "            return\n",
    "        \n",
    "        #first evolution\n",
    "        base_name = ev_chain[\"species\"][\"name\"]\n",
    "#          print(base_name, 'base name')\n",
    "        evolution = ev_chain['evolves_to'][0]\n",
    "        evolution_name = evolution['species']['name']\n",
    "        \n",
    "        # Evolution 1\n",
    "        if base_name == self.name:\n",
    "            pass\n",
    "            \n",
    "        # Evolution 2\n",
    "        elif evolution_name == self.name:\n",
    "            evolution_name = evolution['evolves_to'][0]['species']['name']\n",
    "      \n",
    "        # Evolution 3\n",
    "        else:\n",
    "            print(f\"You can't evolve your {self.name} anymore. \")\n",
    "            return\n",
    "        \n",
    "        print('.......')\n",
    "        sleep(1)\n",
    "        print(f\"Your {self.name} is evolving!?!?\")\n",
    "        self.display()\n",
    "        sleep(1)\n",
    "        print('................')\n",
    "        self.name = evolution_name\n",
    "        self.poke_api_call()\n",
    "        self.display()\n",
    "\n"
   ]
  },
  {
   "cell_type": "markdown",
   "metadata": {},
   "source": [
    "Now let's evolve a few"
   ]
  },
  {
   "cell_type": "code",
   "execution_count": null,
   "metadata": {
    "scrolled": false
   },
   "outputs": [],
   "source": [
    "pokemon_character = Pokemon('charmander')\n",
    "print(pokemon_character)\n",
    "pokemon_character.evolve()\n"
   ]
  },
  {
   "cell_type": "code",
   "execution_count": null,
   "metadata": {},
   "outputs": [],
   "source": []
  },
  {
   "cell_type": "code",
   "execution_count": null,
   "metadata": {},
   "outputs": [],
   "source": []
  },
  {
   "cell_type": "markdown",
   "metadata": {},
   "source": [
    "#  Final Exercise: <br> <br>Create a Move_Tutor Class that will allow the Pokemon Class to inherit a move list.\n",
    "<br>\n",
    "<p>for an added bonus you can make sure that if a pokemon has 4 moves the user can choose one of them to replace with a new move. </p>"
   ]
  },
  {
   "cell_type": "code",
   "execution_count": null,
   "metadata": {},
   "outputs": [],
   "source": [
    "import requests\n",
    "\n",
    "class Move_Tutor:\n",
    "    def __init__(self):\n",
    "        self.move_list = []\n",
    "       \n",
    "    def move_api_call(self):\n",
    "        r = requests.get(f\"https://pokeapi.co/api/v2/pokemon/charizard\")\n",
    "        if r.status_code != 200:\n",
    "            print(\"Move tutor API error: {r.status_code}\")\n",
    "        else:\n",
    "            pokemon = r.json()\n",
    "            pokemon = pokemon[\"moves\"]\n",
    "\n",
    "        self.all_moves = [pokemon_moves[\"move\"][\"name\"] for pokemon_moves in pokemon]\n",
    "        print(self.all_moves)\n",
    "\n",
    "    \n",
    "    def show_all_moves(self):\n",
    "        show = f\"These are all the possibe moves:{self.moves}\"\n",
    "        print(show)\n",
    "        \n",
    "    def show_move_list(self):\n",
    "        show_moves_list = f\"These are the moves you added:{self.move_list}\"\n",
    "        print(self.move_list)\n",
    "        \n",
    "    def add_moves(self):\n",
    "        add_possible_moves = input(\"Type move that you would like to add? Choose up to 4 moves.\")\n",
    "        self.move_list.append(add_possible_moves)\n",
    "        print(f\"You just gained the {add_possible_moves} moveset! Your one step closer to becoming OP!\")\n",
    "   \n",
    "    def remove_moves(self):\n",
    "        remove_possible_moves = input(\"Enter move you would like to remove?\")\n",
    "        self.move_list.remove(remove_possible_moves)\n",
    "        print(f\"You have removed {remove_possible_moves} from your moveset!\")\n",
    "        \n",
    "def run_moves():\n",
    "    user = Move_Tutor()\n",
    "    while True:\n",
    "        option = input(\"What would you like to do? (show all moves), (show your move list), (add moves), (remove moves), or (quit)?\")\n",
    "        if option.lower() == \"quit\":\n",
    "            print(\"Thanks for playing\")\n",
    "            break\n",
    "        elif option.lower() == \"show all moves\":\n",
    "            user.show_all_moves()\n",
    "        elif option.lower() == \"show your move list\":\n",
    "            user.show_move_list()\n",
    "        elif option.lower() == \"add moves\":\n",
    "            user.add_moves()\n",
    "        elif option.lower() == \"remove moves\":\n",
    "            user.remove_moves()\n",
    "        else:\n",
    "            print(\"That's not a valid response. Please choose a valid response.\")\n",
    "            \n",
    "run_moves()\n",
    "            \n",
    "    \n",
    "    "
   ]
  },
  {
   "cell_type": "code",
   "execution_count": null,
   "metadata": {},
   "outputs": [],
   "source": []
  },
  {
   "cell_type": "code",
   "execution_count": 7,
   "metadata": {},
   "outputs": [
    {
     "ename": "NameError",
     "evalue": "name 'charizard' is not defined",
     "output_type": "error",
     "traceback": [
      "\u001b[0;31m---------------------------------------------------------------------------\u001b[0m",
      "\u001b[0;31mNameError\u001b[0m                                 Traceback (most recent call last)",
      "\u001b[0;32m/tmp/ipykernel_62701/1993179762.py\u001b[0m in \u001b[0;36m<module>\u001b[0;34m\u001b[0m\n\u001b[0;32m----> 1\u001b[0;31m \u001b[0mMove_Tutor\u001b[0m\u001b[0;34m.\u001b[0m\u001b[0mmove_api_call\u001b[0m\u001b[0;34m(\u001b[0m\u001b[0mcharizard\u001b[0m\u001b[0;34m)\u001b[0m\u001b[0;34m\u001b[0m\u001b[0;34m\u001b[0m\u001b[0m\n\u001b[0m",
      "\u001b[0;31mNameError\u001b[0m: name 'charizard' is not defined"
     ]
    }
   ],
   "source": [
    "Move_Tutor.move_api_call(charizard)\n"
   ]
  },
  {
   "cell_type": "code",
   "execution_count": null,
   "metadata": {},
   "outputs": [],
   "source": [
    "pikachu.show_moves()"
   ]
  },
  {
   "cell_type": "code",
   "execution_count": null,
   "metadata": {},
   "outputs": [],
   "source": []
  }
 ],
 "metadata": {
  "kernelspec": {
   "display_name": "Python 3 (ipykernel)",
   "language": "python",
   "name": "python3"
  },
  "language_info": {
   "codemirror_mode": {
    "name": "ipython",
    "version": 3
   },
   "file_extension": ".py",
   "mimetype": "text/x-python",
   "name": "python",
   "nbconvert_exporter": "python",
   "pygments_lexer": "ipython3",
   "version": "3.10.4"
  }
 },
 "nbformat": 4,
 "nbformat_minor": 4
}
